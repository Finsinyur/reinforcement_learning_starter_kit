{
 "cells": [
  {
   "cell_type": "code",
   "execution_count": 1,
   "metadata": {},
   "outputs": [],
   "source": [
    "from itertools import permutations\n",
    "from sys import maxsize\n",
    "from enum import Enum\n",
    "import numpy as np\n",
    "import matplotlib.pyplot as plt"
   ]
  },
  {
   "cell_type": "markdown",
   "metadata": {},
   "source": [
    "# Travelling Salesman Problem\n",
    "\n",
    "(Source: Bertsekas, 2023, p. 135)<br>\n",
    "The following work problem is inspired by the source, with some modifications.\n",
    "\n",
    "## Essential reads:\n",
    "- A course in reinforcement learning, Pages 21 - 26\n",
    "- Lecture note: Topics in Reinforcement Learning: Lessons from AlphaZero for (Sub)Optimal Control and Discrete Optimization Lecture 1\n",
    "\n",
    "## Problem\n",
    "Consider a 5-city travelling salesman problem which involves cities A, B, C, D and E and with the following intercity travel cost matrix"
   ]
  },
  {
   "cell_type": "markdown",
   "metadata": {},
   "source": [
    "<style>\n",
    "table {\n",
    "    border-collapse: collapse;\n",
    "}\n",
    "\n",
    "th, td {\n",
    "    border: 1px solid black;\n",
    "    padding: 8px;\n",
    "    text-align: center; /* Center align text */\n",
    "}\n",
    "\n",
    "th:first-child,\n",
    "td:first-child {\n",
    "    background-color: transparent; /* Unshaded first column */\n",
    "    font-weight: bold; /* Make text in first column bold */\n",
    "}\n",
    "\n",
    "tr:first-child th {\n",
    "    background-color: transparent; /* Unshaded first row */\n",
    "}\n",
    "</style>\n",
    "\n",
    "|       | A | B | C | D | E |\n",
    "|-------|----------|----------|----------|----------|----------|\n",
    "| A | 0   | 5   | 1   | 20 | 10 |\n",
    "| B | 20   | 0   | 1   | 4 | 10 |\n",
    "| C | 1   | 20   | 0   | 3 | 10 |\n",
    "| D | 18   | 4   | 3   | 0 | 10 |\n",
    "| E | 30   | 10   | 0   | 10 | 0 |\n"
   ]
  },
  {
   "cell_type": "markdown",
   "metadata": {},
   "source": [
    "Our objectives are as follows:\n",
    "1. Starting (and ending) at City A, create a program that helps identify the optimal cost-to-go $J^*(x_0)$ and the corresponding optimal control sequence\n",
    "2. Apply the nearest neighbour heuristic to find the base heuristic and the associated cost-to-go $\\tilde{J}(x_0)$\n",
    "3. Continue the rollout using the nearest neighbour heuristic with increasing step $k$, and plot the suboptimal cost-to-go with against step $k$. Identify at which iteration did we converge to the optimal solution.\n",
    "4. Try starting your journey from other cities, and determine the optimal \"cost-to-go\"s for each different start points. Are the results within your expectation?"
   ]
  },
  {
   "cell_type": "code",
   "execution_count": 2,
   "metadata": {},
   "outputs": [],
   "source": [
    "# Data class \n",
    "class City(Enum):\n",
    "    A = 0\n",
    "    B = 1\n",
    "    C = 2\n",
    "    D = 3\n",
    "    E = 4\n",
    "\n",
    "# Cost matrix \n",
    "cost_matrix =\\\n",
    "    np.array(\n",
    "        [\n",
    "            [0,5,1,20,10],\n",
    "            [20,0,1,4,10],\n",
    "            [1,20,0,3,10],\n",
    "            [18,4,3,0,10],\n",
    "            [30,10,0,10,0]\n",
    "        ]\n",
    "    )"
   ]
  },
  {
   "cell_type": "markdown",
   "metadata": {},
   "source": [
    "## Obtaining the optimal cost-to-go $J*(x_0)$ and the optimal control sequence"
   ]
  },
  {
   "cell_type": "code",
   "execution_count": 3,
   "metadata": {},
   "outputs": [],
   "source": [
    "def optimal_solution(source, verbose = True):\n",
    "    # Your solution here\n",
    "    # Desired outputs: optimal_cost_to_go, optimal_route\n",
    "\n",
    "    optimal_cost_to_go = None \n",
    "    optimal_route = None\n",
    "\n",
    "    return optimal_cost_to_go, optimal_route\n",
    "    "
   ]
  },
  {
   "cell_type": "code",
   "execution_count": 4,
   "metadata": {},
   "outputs": [
    {
     "name": "stdout",
     "output_type": "stream",
     "text": [
      "Optimal cost: 20\n",
      "Optimal travel route: ['A', 'B', 'D', 'E', 'C', 'A']\n"
     ]
    }
   ],
   "source": [
    "start_from_A = optimal_solution('A')"
   ]
  },
  {
   "cell_type": "markdown",
   "metadata": {},
   "source": [
    "## Applying Nearest Neighbour Heuristic to obtain the base heuristic ($T_0$)\n",
    "\n",
    "<b>Description of algorithm</b>:<br>\n",
    "\n",
    "Starting from city `A`:\n",
    "1. Consider the costs incurred travelling into the next city (for this case, `B`, `C`, `D` and `E`)\n",
    "2. Based on the costs, choose the path with the least cost, i.e. `AC`\n",
    "3. Now, being at city `C`, repeat step 1 and 2 until we've covered all the possible cities exactly once\n",
    "4. End the tour with the start point, i.e. `A`\n",
    "\n",
    "Our expected base heuristic is:\n",
    "- `ACDBEA`` with a cost of 48"
   ]
  },
  {
   "cell_type": "code",
   "execution_count": 5,
   "metadata": {},
   "outputs": [],
   "source": [
    "def NN_base_heuristic(source, verbose = True):\n",
    "    # Your code here\n",
    "\n",
    "    return None\n",
    "        \n",
    "\n",
    "    "
   ]
  },
  {
   "cell_type": "code",
   "execution_count": 6,
   "metadata": {},
   "outputs": [
    {
     "name": "stdout",
     "output_type": "stream",
     "text": [
      "Sub-Optimal cost: 48\n",
      "Sub-Optimal travel route: ['A', 'C', 'D', 'B', 'E', 'A']\n"
     ]
    }
   ],
   "source": [
    "base_heuristic = NN_base_heuristic(\"A\")"
   ]
  },
  {
   "cell_type": "markdown",
   "metadata": {},
   "source": [
    "## Apply rollout with one-step lookahead minimization\n",
    "\n",
    "<b>Description of algorithm (one-step)</b>:<br>\n",
    "\n",
    "Starting at city `A`, \n",
    "1. Consider the options of moving to the next cities `B`, `C`, `D` and `E`; we denote these as `AB`, `AC`, `AD` and `AE` respectively\n",
    "2. Apply the nearest neighbour heuristic; the difference is that instead of applying it at the start point, we apply it at the second city\n",
    "3. The end result is 4 different sets of heuristics; we choose the one with the least cost as our heuristic $T_1$ and associated starting states (i.e.`AE`)\n",
    "4. With the associated starting states, we repeat steps 1 - 3, until we are only left with the last step (here there is no more permutation to consider)\n",
    "5. Complete the calculation by adding the cost of going back to the starting point\n",
    "\n",
    "Our expected suboptimal solution is:\n",
    "- `AECDBA` with a cost of 37\n"
   ]
  },
  {
   "cell_type": "code",
   "execution_count": 7,
   "metadata": {},
   "outputs": [],
   "source": [
    "def NN_one_step_rollout(source, verbose = True):\n",
    "\n",
    "    # Your code here\n",
    "\n",
    "    return None\n",
    "\n",
    "        "
   ]
  },
  {
   "cell_type": "code",
   "execution_count": 8,
   "metadata": {},
   "outputs": [
    {
     "name": "stdout",
     "output_type": "stream",
     "text": [
      "Sub-Optimal cost: 37\n",
      "Sub-Optimal travel route: ['A', 'E', 'C', 'D', 'B', 'A']\n"
     ]
    }
   ],
   "source": [
    "onestep_rollout = NN_one_step_rollout('A')"
   ]
  },
  {
   "cell_type": "markdown",
   "metadata": {},
   "source": [
    "## Apply rollout with one-step lookahead minimization\n",
    "\n",
    "<b>Description of algorithm (k-step)</b>:<br>\n",
    "\n",
    "Similar to the one-step algorithm, instead of considering only moving to the next cities in step one, we consider two cities at once. So we need to run a permutation.<br>\n",
    "\n",
    "Example: starting from `A`, we need to consider: `ABC`, `ACB`, `ABD`, `ADB`, ...<br>. This gives us $\\frac{N!}{(N-k)!}$ sets of heuristics (N is the number of cities excluding start point).<br>\n",
    "\n",
    "Once we have found the heuristic with the least cost, we move on by <b>only one</b> city, i.e. if `ABD` gives the heuristic with the best suboptimal cost, we move toward city `B`. We then continue the routine until we covered all the cities."
   ]
  },
  {
   "cell_type": "code",
   "execution_count": 9,
   "metadata": {},
   "outputs": [],
   "source": [
    "def NN_k_step_rollout(source, k, verbose = True):\n",
    "\n",
    "    # your code here\n",
    "\n",
    "    return None\n",
    "\n",
    "        "
   ]
  },
  {
   "cell_type": "code",
   "execution_count": 10,
   "metadata": {},
   "outputs": [],
   "source": [
    "costs = []\n",
    "\n",
    "# Get costs\n",
    "for i in range(1,4):\n",
    "    kstep_rollout = NN_k_step_rollout('A', i, verbose = False)\n",
    "    costs.append(kstep_rollout[1])\n",
    "\n",
    "# Plot here\n"
   ]
  },
  {
   "cell_type": "markdown",
   "metadata": {},
   "source": [
    "## Optimal \"cost-to-go\"s for each different start points"
   ]
  },
  {
   "cell_type": "code",
   "execution_count": null,
   "metadata": {},
   "outputs": [],
   "source": [
    "optimal_costs = []\n",
    "start_points = ['A', 'B', 'C', 'D', 'E']\n",
    "for start_point in start_points:\n",
    "    optimal_costs.append(optimal_solution(start_point, verbose = False)[0])\n",
    "\n",
    "# plot here"
   ]
  },
  {
   "cell_type": "markdown",
   "metadata": {},
   "source": [
    "> Are the optimal costs from different start points what you are expecting?"
   ]
  },
  {
   "cell_type": "markdown",
   "metadata": {},
   "source": [
    "# References\n",
    "\n",
    "Bertsekas, D. P. (2023). A course in reinforcement learning (p. 135). Athena Scientific.\n",
    "\n",
    "Bertsekas, D. P. (2022). Lecture 1: Course Introduction and Overview. In Topics in Reinforcement Learning: Lessons from AlphaZero for (Sub)Optimal Control and Discrete Optimization [Lecture notes]. Arizona State University, CSE 691, Spring 2022. Retrieved from http://web.mit.edu/dimitrib/www/RLbook.html"
   ]
  }
 ],
 "metadata": {
  "kernelspec": {
   "display_name": "quantco",
   "language": "python",
   "name": "python3"
  },
  "language_info": {
   "codemirror_mode": {
    "name": "ipython",
    "version": 3
   },
   "file_extension": ".py",
   "mimetype": "text/x-python",
   "name": "python",
   "nbconvert_exporter": "python",
   "pygments_lexer": "ipython3",
   "version": "3.9.18"
  }
 },
 "nbformat": 4,
 "nbformat_minor": 2
}
